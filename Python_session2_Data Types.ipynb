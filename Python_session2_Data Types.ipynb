{
 "cells": [
  {
   "cell_type": "code",
   "execution_count": 1,
   "id": "948802bd-7f96-4c0f-98df-0866b3d49819",
   "metadata": {},
   "outputs": [],
   "source": [
    "num=100"
   ]
  },
  {
   "cell_type": "markdown",
   "id": "5ccb90bb-f020-4587-bc73-0deac45c2f5a",
   "metadata": {},
   "source": [
    "**type**"
   ]
  },
  {
   "cell_type": "code",
   "execution_count": 2,
   "id": "515262fc-b5f1-4a9f-a37b-137370b76831",
   "metadata": {},
   "outputs": [
    {
     "data": {
      "text/plain": [
       "int"
      ]
     },
     "execution_count": 2,
     "metadata": {},
     "output_type": "execute_result"
    }
   ],
   "source": [
    "type(num)"
   ]
  },
  {
   "cell_type": "code",
   "execution_count": 3,
   "id": "7f8712f0-c338-43cd-acfe-3e37bd70dcbd",
   "metadata": {},
   "outputs": [
    {
     "ename": "NameError",
     "evalue": "name 'python' is not defined",
     "output_type": "error",
     "traceback": [
      "\u001b[1;31m---------------------------------------------------------------------------\u001b[0m",
      "\u001b[1;31mNameError\u001b[0m                                 Traceback (most recent call last)",
      "Cell \u001b[1;32mIn[3], line 1\u001b[0m\n\u001b[1;32m----> 1\u001b[0m python\n",
      "\u001b[1;31mNameError\u001b[0m: name 'python' is not defined"
     ]
    }
   ],
   "source": [
    "python"
   ]
  },
  {
   "cell_type": "markdown",
   "id": "d5a0b3fd-143f-4aa2-bff6-92927bc29fff",
   "metadata": {},
   "source": [
    "- integer\n",
    "- float\n",
    "- string\n",
    "- boolean\n",
    "- complex\n",
    "- list\n",
    "- tuple\n",
    "- dictionary\n",
    "- set"
   ]
  },
  {
   "cell_type": "code",
   "execution_count": null,
   "id": "5b48ee80-936f-47a5-a63d-e83207a3388c",
   "metadata": {},
   "outputs": [],
   "source": [
    "# python basic concepts-part1\n",
    "- variables\n",
    "- Data types\n",
    "- Data types conversion(type casting)\n",
    "- print statements\n",
    "- overview about packages\n",
    "- write your first end to end program\n",
    "- Condition(if-else)\n",
    "- Functions\n",
    "- loops(for-while)\n",
    "\n",
    "#python part-2\n",
    "\n",
    "- string\n",
    "- list\n",
    "- dictionary\n",
    "- tuple(assesment)\n",
    "- sets\n",
    "- file handling\n",
    "- lambda functions\n",
    "\n",
    "#python part-3:OOPS concepts\n",
    "\n",
    "#Python EDA\n",
    "\n",
    "numpy\n",
    "pandas\n",
    "matplotlib"
   ]
  },
  {
   "cell_type": "markdown",
   "id": "64b54376-2c1c-4c81-bc42-fa47873bed65",
   "metadata": {},
   "source": [
    "**Integer**\n",
    "- In real time we will use decimal number system\n",
    "- what ever the input but python will give output in decimal number format\n",
    "- binary\n",
    "-binary includes only 0 and 1\n",
    "- bi means =2\n",
    "- representation is : 0b111,0B101\n",
    "- wrong representation is : 0b123"
   ]
  },
  {
   "cell_type": "code",
   "execution_count": 4,
   "id": "8a79de2d-bc18-4ab2-a7ce-6f49bc6ecd3b",
   "metadata": {},
   "outputs": [
    {
     "data": {
      "text/plain": [
       "int"
      ]
     },
     "execution_count": 4,
     "metadata": {},
     "output_type": "execute_result"
    }
   ],
   "source": [
    "num=111\n",
    "type(num)"
   ]
  },
  {
   "cell_type": "markdown",
   "id": "cefb456e-1760-407a-ba9f-e32e47e585de",
   "metadata": {},
   "source": [
    "- decimal\n",
    "- binary\n",
    "- octa\n",
    "- hexa"
   ]
  },
  {
   "cell_type": "code",
   "execution_count": 5,
   "id": "ce95bc45-1a88-4a3e-bc65-c7a9c5e20943",
   "metadata": {},
   "outputs": [
    {
     "data": {
      "text/plain": [
       "5"
      ]
     },
     "execution_count": 5,
     "metadata": {},
     "output_type": "execute_result"
    }
   ],
   "source": [
    "0b101"
   ]
  },
  {
   "cell_type": "code",
   "execution_count": 6,
   "id": "7d4e512f-c1ce-4188-8be0-d75fd09dea3d",
   "metadata": {},
   "outputs": [
    {
     "data": {
      "text/plain": [
       "6"
      ]
     },
     "execution_count": 6,
     "metadata": {},
     "output_type": "execute_result"
    }
   ],
   "source": [
    "0b110"
   ]
  },
  {
   "cell_type": "code",
   "execution_count": 8,
   "id": "76ce8d70-0b39-4012-a9a0-e94ca32c496e",
   "metadata": {},
   "outputs": [
    {
     "data": {
      "text/plain": [
       "14"
      ]
     },
     "execution_count": 8,
     "metadata": {},
     "output_type": "execute_result"
    }
   ],
   "source": [
    "0b1110"
   ]
  },
  {
   "cell_type": "code",
   "execution_count": 9,
   "id": "e773b100-d796-4cc4-8310-28aa705d6c98",
   "metadata": {},
   "outputs": [
    {
     "data": {
      "text/plain": [
       "42"
      ]
     },
     "execution_count": 9,
     "metadata": {},
     "output_type": "execute_result"
    }
   ],
   "source": [
    "0b101010"
   ]
  },
  {
   "cell_type": "markdown",
   "id": "629d1cd9-5c75-4123-aa18-23a0b7d97c9a",
   "metadata": {},
   "source": [
    "- octa\n",
    "- octa means = 8\n",
    "- octa includes only 0 1 2 3 4 5 6 7\n",
    "- representation is : 0o123 0o111\n",
    "- wrong representation : 0o897"
   ]
  },
  {
   "cell_type": "code",
   "execution_count": 1,
   "id": "c5782194-819d-4508-84d7-a1977c0e4070",
   "metadata": {},
   "outputs": [
    {
     "data": {
      "text/plain": [
       "83"
      ]
     },
     "execution_count": 1,
     "metadata": {},
     "output_type": "execute_result"
    }
   ],
   "source": [
    "0o123"
   ]
  },
  {
   "cell_type": "code",
   "execution_count": 2,
   "id": "99dba68c-1f74-42f6-8007-aa2665d7f13d",
   "metadata": {},
   "outputs": [
    {
     "ename": "SyntaxError",
     "evalue": "invalid digit '8' in octal literal (4113204144.py, line 1)",
     "output_type": "error",
     "traceback": [
      "\u001b[1;36m  Cell \u001b[1;32mIn[2], line 1\u001b[1;36m\u001b[0m\n\u001b[1;33m    0o789\u001b[0m\n\u001b[1;37m       ^\u001b[0m\n\u001b[1;31mSyntaxError\u001b[0m\u001b[1;31m:\u001b[0m invalid digit '8' in octal literal\n"
     ]
    }
   ],
   "source": [
    "0o789"
   ]
  },
  {
   "cell_type": "code",
   "execution_count": 3,
   "id": "b98f59bc-f7be-40a1-90db-73fc6fcbff79",
   "metadata": {},
   "outputs": [
    {
     "data": {
      "text/plain": [
       "375"
      ]
     },
     "execution_count": 3,
     "metadata": {},
     "output_type": "execute_result"
    }
   ],
   "source": [
    "0o567"
   ]
  },
  {
   "cell_type": "markdown",
   "id": "1f9024d5-09bc-477a-8c47-c827060d3228",
   "metadata": {},
   "source": [
    "- hexa\n",
    "- hexa means = 16\n",
    "- hexa includes only 0 1 2 3 4 5 6 7 8 9 A B C D E F\n",
    "- representation is : 0x123 0x111\n",
    "- wrong representation : 0xabz"
   ]
  },
  {
   "cell_type": "code",
   "execution_count": 4,
   "id": "d0c5c5f0-5254-4356-8daf-127cb60dce43",
   "metadata": {},
   "outputs": [
    {
     "data": {
      "text/plain": [
       "291"
      ]
     },
     "execution_count": 4,
     "metadata": {},
     "output_type": "execute_result"
    }
   ],
   "source": [
    "0x123"
   ]
  },
  {
   "cell_type": "code",
   "execution_count": 6,
   "id": "315a0a9b-1dc0-43a8-936e-03d3399b195f",
   "metadata": {},
   "outputs": [
    {
     "data": {
      "text/plain": [
       "2748"
      ]
     },
     "execution_count": 6,
     "metadata": {},
     "output_type": "execute_result"
    }
   ],
   "source": [
    "0xabc\n",
    "#256*10+16*11+1*12"
   ]
  },
  {
   "cell_type": "markdown",
   "id": "ecd4c701-0357-447c-8a96-daeee09c1c8d",
   "metadata": {},
   "source": [
    "2^2  2^1  2^0\n",
    "4    2     1\n",
    "0    0     0 = 0\n",
    "0    0     1 = 1\n",
    "0    1     0 = 2\n",
    "0    1     1 = 3\n",
    "1    0     0 = 4\n",
    "1    0     1 = 5\n",
    "1    1     0 = 6\n",
    "1    1     1 = 7"
   ]
  },
  {
   "cell_type": "code",
   "execution_count": 7,
   "id": "abf77e92-b236-4aaf-a43a-111fc9e50fc6",
   "metadata": {},
   "outputs": [
    {
     "data": {
      "text/plain": [
       "6"
      ]
     },
     "execution_count": 7,
     "metadata": {},
     "output_type": "execute_result"
    }
   ],
   "source": [
    "0b110"
   ]
  },
  {
   "cell_type": "markdown",
   "id": "7f26ecf7-7037-4d7e-945a-66c562b3481b",
   "metadata": {},
   "source": [
    "2^3  2^2  2^1  2^0\n",
    "8     4    2     1\n",
    "0     0    0     0 = 0\n",
    "0     0    0     1 = 1\n",
    "0     0    1     0 = 2\n",
    "0     0    1     1 = 3\n",
    "0     1    0     0 = 4\n",
    "0     1    0     1 = 5\n",
    "0     1    1     0 = 6\n",
    "0     1    1     1 = 7\n",
    "1     0    0     0 = 8\n",
    "1     0    0     1 = 9\n",
    "1     0    1     0 = 10\n",
    "1     0    1     1 = 11\n",
    "1     1    0     0 = 12\n",
    "1     1    0     1 = 13\n",
    "1     1    1     0 = 14\n",
    "1     1    1     1 = 15"
   ]
  },
  {
   "cell_type": "markdown",
   "id": "08e6e69b-a06d-49af-9173-0f74f7ca8359",
   "metadata": {},
   "source": [
    "## float"
   ]
  },
  {
   "cell_type": "code",
   "execution_count": 32,
   "id": "a5b6dcb0-3ae5-4256-a7dc-815ed460d798",
   "metadata": {},
   "outputs": [
    {
     "data": {
      "text/plain": [
       "float"
      ]
     },
     "execution_count": 32,
     "metadata": {},
     "output_type": "execute_result"
    }
   ],
   "source": [
    "number_float=123.65\n",
    "type(number_float)"
   ]
  },
  {
   "cell_type": "code",
   "execution_count": 8,
   "id": "26d7810c-26ed-4349-a9e0-5fa2621f3399",
   "metadata": {},
   "outputs": [
    {
     "data": {
      "text/plain": [
       "10.0"
      ]
     },
     "execution_count": 8,
     "metadata": {},
     "output_type": "execute_result"
    }
   ],
   "source": [
    "1e1"
   ]
  },
  {
   "cell_type": "code",
   "execution_count": 9,
   "id": "170d51e4-6edc-4772-b722-dcadc565e168",
   "metadata": {},
   "outputs": [
    {
     "data": {
      "text/plain": [
       "100.0"
      ]
     },
     "execution_count": 9,
     "metadata": {},
     "output_type": "execute_result"
    }
   ],
   "source": [
    "1e2"
   ]
  },
  {
   "cell_type": "code",
   "execution_count": 10,
   "id": "265526e9-26b6-46cf-a39f-35f0a073651f",
   "metadata": {},
   "outputs": [
    {
     "data": {
      "text/plain": [
       "1000.0"
      ]
     },
     "execution_count": 10,
     "metadata": {},
     "output_type": "execute_result"
    }
   ],
   "source": [
    "1e3"
   ]
  },
  {
   "cell_type": "code",
   "execution_count": 11,
   "id": "982640cd-12b1-436b-b149-3bc255b5ce46",
   "metadata": {},
   "outputs": [
    {
     "data": {
      "text/plain": [
       "10000.0"
      ]
     },
     "execution_count": 11,
     "metadata": {},
     "output_type": "execute_result"
    }
   ],
   "source": [
    "1e4"
   ]
  },
  {
   "cell_type": "code",
   "execution_count": 12,
   "id": "07c31094-7cd3-431b-924b-bb5df5fbac0e",
   "metadata": {},
   "outputs": [
    {
     "data": {
      "text/plain": [
       "(10.0, 100.0, 1000.0, 10000.0)"
      ]
     },
     "execution_count": 12,
     "metadata": {},
     "output_type": "execute_result"
    }
   ],
   "source": [
    "1e+1,1e+2,1e+3,1e+4"
   ]
  },
  {
   "cell_type": "code",
   "execution_count": 33,
   "id": "c2dbcdc7-3115-4d28-a16b-3eb0f70845da",
   "metadata": {},
   "outputs": [
    {
     "data": {
      "text/plain": [
       "0.001"
      ]
     },
     "execution_count": 33,
     "metadata": {},
     "output_type": "execute_result"
    }
   ],
   "source": [
    "1e-3\n",
    "# 1/1000"
   ]
  },
  {
   "cell_type": "code",
   "execution_count": 15,
   "id": "28549d49-1d7b-4250-99ef-0874fc51c128",
   "metadata": {},
   "outputs": [
    {
     "data": {
      "text/plain": [
       "(0.1, 0.01, 0.001, 0.0001)"
      ]
     },
     "execution_count": 15,
     "metadata": {},
     "output_type": "execute_result"
    }
   ],
   "source": [
    "1e-1,1e-2,1e-3,1e-4\n",
    "# 1/10,1/100,1/1000,1/10000"
   ]
  },
  {
   "cell_type": "code",
   "execution_count": null,
   "id": "67e52f12-493c-4397-b785-e132b3f107cf",
   "metadata": {},
   "outputs": [],
   "source": [
    "1e-10\n",
    "1/(10000000000)=0.0000000001"
   ]
  },
  {
   "cell_type": "code",
   "execution_count": null,
   "id": "1c86d73f-717f-4fb0-8bf4-1e8a9076fa80",
   "metadata": {},
   "outputs": [],
   "source": [
    "# You need to check some answer will be zero\n",
    "# 0.0\n",
    "# 1e-13\n",
    "7.74619736e-15\n",
    "7.74619736/10000000000000000\n",
    "0.00000000000000774619736 ~=0"
   ]
  },
  {
   "cell_type": "markdown",
   "id": "4216da9b-b073-44a6-bfcb-c2e00ef52775",
   "metadata": {},
   "source": [
    "**Boolean**\n",
    "- True = 1\n",
    "- False = 0"
   ]
  },
  {
   "cell_type": "code",
   "execution_count": 16,
   "id": "0bbb9c46-1964-46b2-8da4-81daff685816",
   "metadata": {},
   "outputs": [
    {
     "data": {
      "text/plain": [
       "bool"
      ]
     },
     "execution_count": 16,
     "metadata": {},
     "output_type": "execute_result"
    }
   ],
   "source": [
    "ans=True\n",
    "type(ans)"
   ]
  },
  {
   "cell_type": "code",
   "execution_count": 17,
   "id": "17537e66-d756-4140-8625-55bb1e4b3215",
   "metadata": {},
   "outputs": [
    {
     "data": {
      "text/plain": [
       "bool"
      ]
     },
     "execution_count": 17,
     "metadata": {},
     "output_type": "execute_result"
    }
   ],
   "source": [
    "wrong_ans=False\n",
    "type(wrong_ans)"
   ]
  },
  {
   "cell_type": "code",
   "execution_count": 18,
   "id": "c4c2e9c0-b0aa-4c72-85f5-3765e18f3480",
   "metadata": {},
   "outputs": [
    {
     "data": {
      "text/plain": [
       "True"
      ]
     },
     "execution_count": 18,
     "metadata": {},
     "output_type": "execute_result"
    }
   ],
   "source": [
    "true=True\n",
    "true"
   ]
  },
  {
   "cell_type": "code",
   "execution_count": 34,
   "id": "f5e2e80d-2ce3-4913-a4be-7ea268dd96ee",
   "metadata": {},
   "outputs": [
    {
     "data": {
      "text/plain": [
       "5"
      ]
     },
     "execution_count": 34,
     "metadata": {},
     "output_type": "execute_result"
    }
   ],
   "source": [
    "wrong_ans=False\n",
    "wrong_ans=5\n",
    "wrong_ans"
   ]
  },
  {
   "cell_type": "code",
   "execution_count": 35,
   "id": "30f59981-8f51-4cc0-8d88-85909b0368f8",
   "metadata": {},
   "outputs": [
    {
     "data": {
      "text/plain": [
       "int"
      ]
     },
     "execution_count": 35,
     "metadata": {},
     "output_type": "execute_result"
    }
   ],
   "source": [
    "type(wrong_ans)\n",
    "#data type also change"
   ]
  },
  {
   "cell_type": "markdown",
   "id": "6c21d746-5f2c-4be0-8167-729183d5e21a",
   "metadata": {},
   "source": [
    "$String$"
   ]
  },
  {
   "cell_type": "code",
   "execution_count": 22,
   "id": "09a068e5-6a4d-4c2b-b723-ce158963f95c",
   "metadata": {},
   "outputs": [
    {
     "data": {
      "text/plain": [
       "'python'"
      ]
     },
     "execution_count": 22,
     "metadata": {},
     "output_type": "execute_result"
    }
   ],
   "source": [
    "name1='python'\n",
    "name1"
   ]
  },
  {
   "cell_type": "code",
   "execution_count": 23,
   "id": "102494ae-7ce0-4950-935f-8dbbd7541668",
   "metadata": {},
   "outputs": [
    {
     "data": {
      "text/plain": [
       "'Simran'"
      ]
     },
     "execution_count": 23,
     "metadata": {},
     "output_type": "execute_result"
    }
   ],
   "source": [
    "name2=\"Simran\"\n",
    "name2"
   ]
  },
  {
   "cell_type": "code",
   "execution_count": 24,
   "id": "950c353c-6d66-4384-b8a9-16c6773731b3",
   "metadata": {},
   "outputs": [
    {
     "data": {
      "text/plain": [
       "str"
      ]
     },
     "execution_count": 24,
     "metadata": {},
     "output_type": "execute_result"
    }
   ],
   "source": [
    "type(name1)"
   ]
  },
  {
   "cell_type": "markdown",
   "id": "898c8d70-d7ec-434d-bdc3-cdf781e06c53",
   "metadata": {},
   "source": [
    "integer = int \n",
    "float = float\n",
    "string = str\n",
    "boolean = bool"
   ]
  },
  {
   "cell_type": "code",
   "execution_count": null,
   "id": "65abf443-a30d-4a3f-b03e-0c6e99f2eba6",
   "metadata": {},
   "outputs": [],
   "source": [
    "i like 'python'"
   ]
  },
  {
   "cell_type": "code",
   "execution_count": 26,
   "id": "497ab2ac-afe2-4f93-9578-25c713647ec4",
   "metadata": {},
   "outputs": [
    {
     "data": {
      "text/plain": [
       "'i \"like\" python'"
      ]
     },
     "execution_count": 26,
     "metadata": {},
     "output_type": "execute_result"
    }
   ],
   "source": [
    "name3='i \"like\" python'\n",
    "name3"
   ]
  },
  {
   "cell_type": "code",
   "execution_count": 27,
   "id": "37d03e4f-6e11-45d7-ad41-2ea1f053cc52",
   "metadata": {},
   "outputs": [
    {
     "data": {
      "text/plain": [
       "\"i 'like' python\""
      ]
     },
     "execution_count": 27,
     "metadata": {},
     "output_type": "execute_result"
    }
   ],
   "source": [
    "name3=\"i 'like' python\"\n",
    "name3"
   ]
  },
  {
   "cell_type": "markdown",
   "id": "5c25a253-94ae-439e-ad98-b121a595ba66",
   "metadata": {},
   "source": [
    "**Note**\n",
    "- Entire sentence in single quotes,then highlited word in double quotes\n",
    "-  Entire sentence in double quotes,then highlited word in single quotes"
   ]
  },
  {
   "cell_type": "code",
   "execution_count": 36,
   "id": "5e4fe8e4-d3c4-4fb3-890a-62752c0a5771",
   "metadata": {},
   "outputs": [
    {
     "data": {
      "text/plain": [
       "'hello how are you\\n        how do you do'"
      ]
     },
     "execution_count": 36,
     "metadata": {},
     "output_type": "execute_result"
    }
   ],
   "source": [
    "str1=\"\"\"hello how are you\n",
    "        how do you do\"\"\"\n",
    "str1\n",
    "# \\n=new line\n",
    "# there is multiple lines are there in output"
   ]
  },
  {
   "cell_type": "code",
   "execution_count": 31,
   "id": "b3327200-c64e-491e-afd0-3eea81357f2a",
   "metadata": {},
   "outputs": [
    {
     "name": "stdout",
     "output_type": "stream",
     "text": [
      "hello how are you\n",
      "how do you do\n"
     ]
    }
   ],
   "source": [
    "print(str1)"
   ]
  },
  {
   "cell_type": "markdown",
   "id": "8d411703-ecf6-4bdc-bf25-c71d6d64ffcb",
   "metadata": {},
   "source": [
    "- strings can represents in single quotes and double quotes or triple quotes\n",
    "- when a person writing something in triple quotes : **Doc String**\n",
    "- Triple quotes are used for conveying information like markdown in jupyter notebook\n",
    "- Triple quotes are not used for coding  part"
   ]
  },
  {
   "cell_type": "code",
   "execution_count": null,
   "id": "bccc2b59-0fec-4ee3-894c-64523b4c8eac",
   "metadata": {},
   "outputs": [],
   "source": [
    "Type casting"
   ]
  }
 ],
 "metadata": {
  "kernelspec": {
   "display_name": "Python 3 (ipykernel)",
   "language": "python",
   "name": "python3"
  },
  "language_info": {
   "codemirror_mode": {
    "name": "ipython",
    "version": 3
   },
   "file_extension": ".py",
   "mimetype": "text/x-python",
   "name": "python",
   "nbconvert_exporter": "python",
   "pygments_lexer": "ipython3",
   "version": "3.11.7"
  }
 },
 "nbformat": 4,
 "nbformat_minor": 5
}
