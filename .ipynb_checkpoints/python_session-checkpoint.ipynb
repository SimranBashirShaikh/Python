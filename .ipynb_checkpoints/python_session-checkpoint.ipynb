{
 "cells": [
  {
   "cell_type": "code",
   "execution_count": 1,
   "id": "b36f34db-cbd6-48d5-b9af-e1e6817ca6a4",
   "metadata": {},
   "outputs": [
    {
     "name": "stdout",
     "output_type": "stream",
     "text": [
      "10\n"
     ]
    }
   ],
   "source": [
    "a=30\n",
    "b=20\n",
    "c=a-b\n",
    "print(c)"
   ]
  },
  {
   "cell_type": "code",
   "execution_count": 1,
   "id": "75bec62c-a51a-4adf-87c3-dcbdcd8e2d55",
   "metadata": {},
   "outputs": [
    {
     "data": {
      "text/plain": [
       "50"
      ]
     },
     "execution_count": 1,
     "metadata": {},
     "output_type": "execute_result"
    }
   ],
   "source": [
    "a=20\n",
    "b=30\n",
    "a+b"
   ]
  },
  {
   "cell_type": "markdown",
   "id": "065eac5d-9e28-41ed-935a-7466ae631240",
   "metadata": {},
   "source": [
    "Hello python"
   ]
  },
  {
   "cell_type": "markdown",
   "id": "42d9ff2f-f01c-4d89-8934-7361692c4f58",
   "metadata": {},
   "source": [
    "Hello Simran\n",
    "Here the mode is code\n",
    "I am able to see [] that is a code mode\n",
    "if I run this i will get error\n",
    "I need select the cell then change mode to markdown mode"
   ]
  },
  {
   "cell_type": "markdown",
   "id": "0e713f1d-9446-4ad5-af02-d4904ee7b521",
   "metadata": {},
   "source": [
    "# Python"
   ]
  },
  {
   "cell_type": "markdown",
   "id": "4e17adee-b5c6-4857-bacc-68caec9ad417",
   "metadata": {},
   "source": [
    "## python"
   ]
  },
  {
   "cell_type": "markdown",
   "id": "b4e58950-e4d8-4033-968e-c65f7f8063ed",
   "metadata": {},
   "source": [
    "### python"
   ]
  },
  {
   "cell_type": "markdown",
   "id": "dd390f9e-73dd-46a1-a2c9-6f66f23aeb00",
   "metadata": {},
   "source": [
    "python is easy\n",
    "esc+m:Code mode to markdown mode\n",
    "esc+y:markdown mode to code mode\n",
    "shift+enter"
   ]
  },
  {
   "cell_type": "markdown",
   "id": "4053fc4d-c179-4635-a454-eb98372374f8",
   "metadata": {},
   "source": [
    "- python code execute step by step only\n",
    "- Understand the python\n",
    "- python is easy\n",
    "- python does not any semi colon\n",
    "- python does not any curly braces"
   ]
  },
  {
   "cell_type": "markdown",
   "id": "52372349-eac1-4b29-a5af-90616a23caa5",
   "metadata": {},
   "source": [
    "<img class=\"s-img\" width=\"115.8\" height=\"115.6\" alt=\"Python, this open source language has gained popularity worldwide ...\" title=\"Python, this open source language has gained popularity worldwide ...\" data-pos=\"8\" src=\"https://tse1.mm.bing.net/th?id=OIP.qpJowvA3Z8YkVKxF1UWc1wHaHZ&amp;pid=Api&amp;rs=1&amp;c=1&amp;qlt=95&amp;w=115&amp;h=115\">"
   ]
  },
  {
   "cell_type": "code",
   "execution_count": 2,
   "id": "b8e35360-682f-49c8-a8b9-369ea6b59cca",
   "metadata": {},
   "outputs": [
    {
     "data": {
      "text/plain": [
       "'C:\\\\Users\\\\sohel\\\\Documents\\\\Nareshit'"
      ]
     },
     "execution_count": 2,
     "metadata": {},
     "output_type": "execute_result"
    }
   ],
   "source": [
    "import os\n",
    "os.getcwd()"
   ]
  },
  {
   "cell_type": "markdown",
   "id": "f5331d4b-55ff-44ea-85f9-eee26c2f7d72",
   "metadata": {},
   "source": [
    "python\n",
    "code == mark down\n",
    "select the cell\n",
    "esc+m\n",
    "esc+y"
   ]
  },
  {
   "cell_type": "code",
   "execution_count": 3,
   "id": "dd8592b4-1f04-427a-ab4e-13be4a0e097e",
   "metadata": {},
   "outputs": [
    {
     "data": {
      "text/plain": [
       "'C:\\\\Users\\\\sohel\\\\Documents\\\\Nareshit'"
      ]
     },
     "execution_count": 3,
     "metadata": {},
     "output_type": "execute_result"
    }
   ],
   "source": [
    "os.getcwd() #enter tab\n",
    "    "
   ]
  },
  {
   "cell_type": "code",
   "execution_count": null,
   "id": "27b21013-9964-449b-ae8a-8ae201a048c1",
   "metadata": {},
   "outputs": [],
   "source": []
  }
 ],
 "metadata": {
  "kernelspec": {
   "display_name": "Python 3 (ipykernel)",
   "language": "python",
   "name": "python3"
  },
  "language_info": {
   "codemirror_mode": {
    "name": "ipython",
    "version": 3
   },
   "file_extension": ".py",
   "mimetype": "text/x-python",
   "name": "python",
   "nbconvert_exporter": "python",
   "pygments_lexer": "ipython3",
   "version": "3.11.7"
  }
 },
 "nbformat": 4,
 "nbformat_minor": 5
}
