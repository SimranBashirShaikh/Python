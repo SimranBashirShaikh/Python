{
 "cells": [
  {
   "cell_type": "markdown",
   "id": "40f0c8b1-51ed-4e54-9c9f-c5fd9a7f744f",
   "metadata": {},
   "source": [
    "## variables"
   ]
  },
  {
   "cell_type": "markdown",
   "id": "ef32938d-bb79-49b5-bac2-1ff996cd0437",
   "metadata": {},
   "source": [
    "- variable is used to store a value\n",
    "- variables can change their values\n",
    "- In python latest value will be consider\n",
    "- Python is step by step process"
   ]
  },
  {
   "cell_type": "code",
   "execution_count": 3,
   "id": "cd227ed4-043f-4765-b75b-69e8b61d7d43",
   "metadata": {},
   "outputs": [
    {
     "data": {
      "text/plain": [
       "10"
      ]
     },
     "execution_count": 3,
     "metadata": {},
     "output_type": "execute_result"
    }
   ],
   "source": [
    "num=10\n",
    "num\n",
    "#comment\n",
    "#value 10 stored in variable called 'num'"
   ]
  },
  {
   "cell_type": "code",
   "execution_count": 4,
   "id": "e1749191-fd1c-4108-b836-48476cba9116",
   "metadata": {},
   "outputs": [
    {
     "data": {
      "text/plain": [
       "100"
      ]
     },
     "execution_count": 4,
     "metadata": {},
     "output_type": "execute_result"
    }
   ],
   "source": [
    "NUM=100\n",
    "NUM"
   ]
  },
  {
   "cell_type": "code",
   "execution_count": 5,
   "id": "8b0210c2-eab8-4c4e-97aa-97119491bef5",
   "metadata": {},
   "outputs": [],
   "source": [
    "#whenever you run a new cell is created\n",
    "#shift+enter"
   ]
  },
  {
   "cell_type": "code",
   "execution_count": 6,
   "id": "211925fd-4121-4b96-b470-bf4b0c9f2cdd",
   "metadata": {},
   "outputs": [],
   "source": [
    "number=10"
   ]
  },
  {
   "cell_type": "code",
   "execution_count": 7,
   "id": "baa771df-ea94-47b6-83ea-d28040c8965d",
   "metadata": {},
   "outputs": [
    {
     "data": {
      "text/plain": [
       "10"
      ]
     },
     "execution_count": 7,
     "metadata": {},
     "output_type": "execute_result"
    }
   ],
   "source": [
    "number"
   ]
  },
  {
   "cell_type": "code",
   "execution_count": 8,
   "id": "a7a117c6-b19c-4412-a1cc-37cff411dde6",
   "metadata": {},
   "outputs": [],
   "source": [
    "#num=10\n",
    "#NUM=100"
   ]
  },
  {
   "cell_type": "code",
   "execution_count": 9,
   "id": "f4298022-1ef3-4bc7-a0bb-4f1bd4678f68",
   "metadata": {},
   "outputs": [
    {
     "data": {
      "text/plain": [
       "200"
      ]
     },
     "execution_count": 9,
     "metadata": {},
     "output_type": "execute_result"
    }
   ],
   "source": [
    "NUMber=200\n",
    "NUMber"
   ]
  },
  {
   "cell_type": "code",
   "execution_count": 12,
   "id": "8a6ae8bc-524f-41c1-bb7e-5145498a95f9",
   "metadata": {},
   "outputs": [
    {
     "data": {
      "text/plain": [
       "300"
      ]
     },
     "execution_count": 12,
     "metadata": {},
     "output_type": "execute_result"
    }
   ],
   "source": [
    "number123=300\n",
    "number123"
   ]
  },
  {
   "cell_type": "code",
   "execution_count": 13,
   "id": "1b172cdb-de23-43ea-bb36-2035149e386f",
   "metadata": {},
   "outputs": [
    {
     "ename": "SyntaxError",
     "evalue": "invalid decimal literal (2684778622.py, line 1)",
     "output_type": "error",
     "traceback": [
      "\u001b[1;36m  Cell \u001b[1;32mIn[13], line 1\u001b[1;36m\u001b[0m\n\u001b[1;33m    123number=400\u001b[0m\n\u001b[1;37m      ^\u001b[0m\n\u001b[1;31mSyntaxError\u001b[0m\u001b[1;31m:\u001b[0m invalid decimal literal\n"
     ]
    }
   ],
   "source": [
    "123number=400\n",
    "123number\n",
    "#variable does not start with number"
   ]
  },
  {
   "cell_type": "code",
   "execution_count": 18,
   "id": "81989554-9104-4d9c-bb61-81d03d9f46f1",
   "metadata": {},
   "outputs": [],
   "source": [
    "simran=400"
   ]
  },
  {
   "cell_type": "code",
   "execution_count": 19,
   "id": "00a38691-cfc1-422c-b735-3282c1ed544a",
   "metadata": {},
   "outputs": [
    {
     "data": {
      "text/plain": [
       "400"
      ]
     },
     "execution_count": 19,
     "metadata": {},
     "output_type": "execute_result"
    }
   ],
   "source": [
    "simran"
   ]
  },
  {
   "cell_type": "code",
   "execution_count": 20,
   "id": "b637bc6c-4e3e-449b-a405-3104cdf1d37d",
   "metadata": {},
   "outputs": [
    {
     "ename": "SyntaxError",
     "evalue": "invalid syntax (1683318022.py, line 1)",
     "output_type": "error",
     "traceback": [
      "\u001b[1;36m  Cell \u001b[1;32mIn[20], line 1\u001b[1;36m\u001b[0m\n\u001b[1;33m    number one=300\u001b[0m\n\u001b[1;37m           ^\u001b[0m\n\u001b[1;31mSyntaxError\u001b[0m\u001b[1;31m:\u001b[0m invalid syntax\n"
     ]
    }
   ],
   "source": [
    "number one=300\n",
    "number one"
   ]
  },
  {
   "cell_type": "code",
   "execution_count": 21,
   "id": "02f65ee0-da35-497d-bea8-d8e159a64a5e",
   "metadata": {},
   "outputs": [
    {
     "ename": "SyntaxError",
     "evalue": "cannot assign to expression here. Maybe you meant '==' instead of '='? (3649041288.py, line 1)",
     "output_type": "error",
     "traceback": [
      "\u001b[1;36m  Cell \u001b[1;32mIn[21], line 1\u001b[1;36m\u001b[0m\n\u001b[1;33m    number@one=1\u001b[0m\n\u001b[1;37m    ^\u001b[0m\n\u001b[1;31mSyntaxError\u001b[0m\u001b[1;31m:\u001b[0m cannot assign to expression here. Maybe you meant '==' instead of '='?\n"
     ]
    }
   ],
   "source": [
    "number@one=1\n",
    "number@one"
   ]
  },
  {
   "cell_type": "code",
   "execution_count": 22,
   "id": "28968234-525a-41da-ae55-465f4e7e1eb1",
   "metadata": {},
   "outputs": [
    {
     "data": {
      "text/plain": [
       "500"
      ]
     },
     "execution_count": 22,
     "metadata": {},
     "output_type": "execute_result"
    }
   ],
   "source": [
    "number_one=500\n",
    "number_one"
   ]
  },
  {
   "cell_type": "markdown",
   "id": "728496b8-f823-47ea-a72b-c0a7466cc85b",
   "metadata": {},
   "source": [
    "## variable\n",
    "esc+m\n",
    "shift+enter"
   ]
  },
  {
   "cell_type": "code",
   "execution_count": 23,
   "id": "812cd624-a828-499e-a96f-796bd95923e0",
   "metadata": {},
   "outputs": [
    {
     "data": {
      "text/plain": [
       "800"
      ]
     },
     "execution_count": 23,
     "metadata": {},
     "output_type": "execute_result"
    }
   ],
   "source": [
    "_=800\n",
    "_"
   ]
  },
  {
   "cell_type": "code",
   "execution_count": 24,
   "id": "1423bec8-addb-49d9-bb53-45b31bd833ce",
   "metadata": {},
   "outputs": [
    {
     "ename": "SyntaxError",
     "evalue": "invalid syntax (3092338201.py, line 1)",
     "output_type": "error",
     "traceback": [
      "\u001b[1;36m  Cell \u001b[1;32mIn[24], line 1\u001b[1;36m\u001b[0m\n\u001b[1;33m    if=700\u001b[0m\n\u001b[1;37m      ^\u001b[0m\n\u001b[1;31mSyntaxError\u001b[0m\u001b[1;31m:\u001b[0m invalid syntax\n"
     ]
    }
   ],
   "source": [
    "if=700\n",
    "if"
   ]
  },
  {
   "cell_type": "code",
   "execution_count": 25,
   "id": "ac121530-a1e0-41ef-98f3-fc0094ce83e4",
   "metadata": {},
   "outputs": [
    {
     "ename": "SyntaxError",
     "evalue": "invalid syntax (3034632313.py, line 1)",
     "output_type": "error",
     "traceback": [
      "\u001b[1;36m  Cell \u001b[1;32mIn[25], line 1\u001b[1;36m\u001b[0m\n\u001b[1;33m    while = 800\u001b[0m\n\u001b[1;37m          ^\u001b[0m\n\u001b[1;31mSyntaxError\u001b[0m\u001b[1;31m:\u001b[0m invalid syntax\n"
     ]
    }
   ],
   "source": [
    "while = 800\n",
    "while"
   ]
  },
  {
   "cell_type": "markdown",
   "id": "b86f6d44-4335-4c2c-b3c1-f860273382b8",
   "metadata": {},
   "source": [
    "- variables are case sensitive\n",
    "- variables can be capital letter and small letter\n",
    "- variables does not allow special characters accept underscore\n",
    "- only underscore _can be a variable\n",
    "- variable does not allow any space between the words\n",
    "- variables can not contain numbers as prefix ex:123num\n",
    "- variables can have number as suffix ex:num123\n",
    "- variable does not contain any keywords"
   ]
  },
  {
   "cell_type": "code",
   "execution_count": null,
   "id": "5255da1d-1905-4431-90fd-f3a9c6b72eb1",
   "metadata": {},
   "outputs": [],
   "source": []
  }
 ],
 "metadata": {
  "kernelspec": {
   "display_name": "Python 3 (ipykernel)",
   "language": "python",
   "name": "python3"
  },
  "language_info": {
   "codemirror_mode": {
    "name": "ipython",
    "version": 3
   },
   "file_extension": ".py",
   "mimetype": "text/x-python",
   "name": "python",
   "nbconvert_exporter": "python",
   "pygments_lexer": "ipython3",
   "version": "3.11.7"
  }
 },
 "nbformat": 4,
 "nbformat_minor": 5
}
