{
 "cells": [
  {
   "cell_type": "markdown",
   "id": "9b43da44-d3b2-4a52-b5b4-98caae037108",
   "metadata": {},
   "source": [
    "**Type Casting**\n",
    "Convert one data type to another data type\n",
    "- Integer\n",
    "- float\n",
    "- string\n",
    "- boolean\n",
    "**Integer to all other data types**\n",
    "- Integer to float\n",
    "- Integer to string\n",
    "- Integer to boolean"
   ]
  },
  {
   "cell_type": "code",
   "execution_count": 1,
   "id": "83a922b9-8d34-4180-959f-2e4cd3462bf1",
   "metadata": {},
   "outputs": [
    {
     "data": {
      "text/plain": [
       "int"
      ]
     },
     "execution_count": 1,
     "metadata": {},
     "output_type": "execute_result"
    }
   ],
   "source": [
    "number=100\n",
    "type(number)"
   ]
  },
  {
   "cell_type": "code",
   "execution_count": 3,
   "id": "0e116952-1d2e-4a89-a6a8-ee844390a3cc",
   "metadata": {},
   "outputs": [],
   "source": [
    "number_float=float(number)"
   ]
  },
  {
   "cell_type": "code",
   "execution_count": 4,
   "id": "265e6c7a-5e42-4a76-b9fe-4f258230d86d",
   "metadata": {},
   "outputs": [
    {
     "data": {
      "text/plain": [
       "(100, 100.0)"
      ]
     },
     "execution_count": 4,
     "metadata": {},
     "output_type": "execute_result"
    }
   ],
   "source": [
    "number,number_float"
   ]
  },
  {
   "cell_type": "code",
   "execution_count": 5,
   "id": "0ab72f91-830d-4726-9a3c-98602b1e507d",
   "metadata": {},
   "outputs": [
    {
     "data": {
      "text/plain": [
       "(int, float)"
      ]
     },
     "execution_count": 5,
     "metadata": {},
     "output_type": "execute_result"
    }
   ],
   "source": [
    "type(number),type(number_float)               "
   ]
  },
  {
   "cell_type": "markdown",
   "id": "ea8f1be5-17d1-4579-b9c6-709556132383",
   "metadata": {},
   "source": [
    "$int-str$"
   ]
  },
  {
   "cell_type": "code",
   "execution_count": 7,
   "id": "e02631bf-466b-4079-b4e3-23edb8e2eb8f",
   "metadata": {},
   "outputs": [],
   "source": [
    "number_string=str(number)"
   ]
  },
  {
   "cell_type": "code",
   "execution_count": 8,
   "id": "6f7b27a7-89cf-4e14-8fde-5d41fa9dcb6a",
   "metadata": {},
   "outputs": [
    {
     "data": {
      "text/plain": [
       "(100, 100.0, '100')"
      ]
     },
     "execution_count": 8,
     "metadata": {},
     "output_type": "execute_result"
    }
   ],
   "source": [
    "number,number_float,number_string"
   ]
  },
  {
   "cell_type": "code",
   "execution_count": 9,
   "id": "8bf5f2ba-7625-4272-8da7-87bcadd05e34",
   "metadata": {},
   "outputs": [
    {
     "data": {
      "text/plain": [
       "(int, float, str)"
      ]
     },
     "execution_count": 9,
     "metadata": {},
     "output_type": "execute_result"
    }
   ],
   "source": [
    "type(number),type(number_float),type(number_string)"
   ]
  },
  {
   "cell_type": "markdown",
   "id": "f3a4e57b-8173-41d7-ae16-82f660c87502",
   "metadata": {},
   "source": [
    "$int-bool$"
   ]
  },
  {
   "cell_type": "code",
   "execution_count": 10,
   "id": "3e52ccb0-7160-4e75-842d-51a9157350aa",
   "metadata": {},
   "outputs": [
    {
     "data": {
      "text/plain": [
       "True"
      ]
     },
     "execution_count": 10,
     "metadata": {},
     "output_type": "execute_result"
    }
   ],
   "source": [
    "number_bool=bool(number)\n",
    "number_bool"
   ]
  },
  {
   "cell_type": "code",
   "execution_count": 11,
   "id": "7e466793-f606-4ce7-8f80-e74d6f2473b7",
   "metadata": {},
   "outputs": [
    {
     "data": {
      "text/plain": [
       "(100, 100.0, '100', True)"
      ]
     },
     "execution_count": 11,
     "metadata": {},
     "output_type": "execute_result"
    }
   ],
   "source": [
    "number,number_float,number_string,number_bool"
   ]
  },
  {
   "cell_type": "code",
   "execution_count": 13,
   "id": "e6cec1f3-9939-4686-ad3d-0f2b5378095c",
   "metadata": {},
   "outputs": [
    {
     "data": {
      "text/plain": [
       "(200, 200.0, '200', True)"
      ]
     },
     "execution_count": 13,
     "metadata": {},
     "output_type": "execute_result"
    }
   ],
   "source": [
    "number1=200\n",
    "number1_float=float(number1) #float\n",
    "number1_string=str(number1)  #string\n",
    "number1_bool=bool(number1)   #bool\n",
    "number1,number1_float,number1_string,number1_bool"
   ]
  },
  {
   "cell_type": "code",
   "execution_count": 14,
   "id": "2e0a69a9-e5ec-40af-9618-79c4c7d9a468",
   "metadata": {},
   "outputs": [
    {
     "data": {
      "text/plain": [
       "(True, True, False)"
      ]
     },
     "execution_count": 14,
     "metadata": {},
     "output_type": "execute_result"
    }
   ],
   "source": [
    "bool(100),bool(-100),bool(0)"
   ]
  },
  {
   "cell_type": "markdown",
   "id": "e71f4d83-f2a0-4eb8-bf87-1a201222e01d",
   "metadata": {},
   "source": [
    "**Note**\n",
    "- Boolean conversion of 0 gives false\n",
    "- Boolean conversion of +ve and -ve integer numbers gives True"
   ]
  },
  {
   "cell_type": "markdown",
   "id": "f6cfe265-820f-4b99-96a4-a03fd61d0ef8",
   "metadata": {},
   "source": [
    "**Float to other data types**\n",
    "- Float to integer\n",
    "- Float to string\n",
    "- Float to boolean"
   ]
  },
  {
   "cell_type": "code",
   "execution_count": 17,
   "id": "488bf795-adcb-494d-9545-85a3ec87f844",
   "metadata": {},
   "outputs": [
    {
     "data": {
      "text/plain": [
       "(100, '100.25', True, False)"
      ]
     },
     "execution_count": 17,
     "metadata": {},
     "output_type": "execute_result"
    }
   ],
   "source": [
    "number2=100.25\n",
    "int(number2),str(number2),bool(number2),bool(0.0)"
   ]
  },
  {
   "cell_type": "code",
   "execution_count": null,
   "id": "95e2fa02-4cfe-4126-8d6f-8b3d4f1a1be5",
   "metadata": {},
   "outputs": [],
   "source": [
    "int(100.25)  #100\n",
    "str(100.25)  #'100.25'\n",
    "bool(100.25)  #True\n",
    "bool(0.0)     #False"
   ]
  },
  {
   "cell_type": "code",
   "execution_count": 18,
   "id": "ce3d54ec-f290-4c27-9681-d21b88d33d7f",
   "metadata": {},
   "outputs": [
    {
     "name": "stdout",
     "output_type": "stream",
     "text": [
      "python\n"
     ]
    }
   ],
   "source": [
    "print('python')"
   ]
  },
  {
   "cell_type": "markdown",
   "id": "e5a98a04-2e5b-4858-8bd5-8843c59634d5",
   "metadata": {},
   "source": [
    "**String to all other data types**\n",
    "- String to integer\n",
    "- String to float\n",
    "- String to boolean"
   ]
  },
  {
   "cell_type": "code",
   "execution_count": 19,
   "id": "73cd6fe8-5a18-4f44-97bb-143d02f502b6",
   "metadata": {},
   "outputs": [
    {
     "data": {
      "text/plain": [
       "str"
      ]
     },
     "execution_count": 19,
     "metadata": {},
     "output_type": "execute_result"
    }
   ],
   "source": [
    "type('python')"
   ]
  },
  {
   "cell_type": "code",
   "execution_count": 20,
   "id": "8a6c6d05-9b5b-4e17-93ac-ec0fac5ad421",
   "metadata": {},
   "outputs": [
    {
     "data": {
      "text/plain": [
       "str"
      ]
     },
     "execution_count": 20,
     "metadata": {},
     "output_type": "execute_result"
    }
   ],
   "source": [
    "type('100')"
   ]
  },
  {
   "cell_type": "code",
   "execution_count": 21,
   "id": "d10ee411-33d3-490d-958f-4f5a73a9b904",
   "metadata": {},
   "outputs": [
    {
     "data": {
      "text/plain": [
       "str"
      ]
     },
     "execution_count": 21,
     "metadata": {},
     "output_type": "execute_result"
    }
   ],
   "source": [
    "type('100.25')"
   ]
  },
  {
   "cell_type": "markdown",
   "id": "658e82d9-d31c-4064-a74d-67967a31f696",
   "metadata": {},
   "source": [
    "$Case-1$"
   ]
  },
  {
   "cell_type": "code",
   "execution_count": null,
   "id": "4b4591df-2156-4535-bd7c-8755e6580d5e",
   "metadata": {},
   "outputs": [],
   "source": [
    "# string to all other\n",
    "int('100')  #100\n",
    "float('100')  #100.0\n",
    "bool('100')   #True"
   ]
  },
  {
   "cell_type": "code",
   "execution_count": 23,
   "id": "ee4418f0-5efe-4c9c-a196-e4a6facc52ab",
   "metadata": {},
   "outputs": [
    {
     "data": {
      "text/plain": [
       "100"
      ]
     },
     "execution_count": 23,
     "metadata": {},
     "output_type": "execute_result"
    }
   ],
   "source": [
    "int('100')"
   ]
  },
  {
   "cell_type": "code",
   "execution_count": 24,
   "id": "5722c978-bd90-449a-b903-0548d3f574b7",
   "metadata": {},
   "outputs": [
    {
     "data": {
      "text/plain": [
       "100.0"
      ]
     },
     "execution_count": 24,
     "metadata": {},
     "output_type": "execute_result"
    }
   ],
   "source": [
    "float('100')"
   ]
  },
  {
   "cell_type": "code",
   "execution_count": 25,
   "id": "4564c66d-1d66-4f6c-b62e-35b8b4ddab83",
   "metadata": {},
   "outputs": [
    {
     "data": {
      "text/plain": [
       "True"
      ]
     },
     "execution_count": 25,
     "metadata": {},
     "output_type": "execute_result"
    }
   ],
   "source": [
    "bool('100')"
   ]
  },
  {
   "cell_type": "markdown",
   "id": "cc06414f-8c2a-47be-a4e7-e177c1ae2f3d",
   "metadata": {},
   "source": [
    "$Case-2$"
   ]
  },
  {
   "cell_type": "code",
   "execution_count": null,
   "id": "50aeac6d-937c-41ea-ba36-3b51392431e3",
   "metadata": {},
   "outputs": [],
   "source": [
    "int('100.25')  #error\n",
    "float('100.24') #100.24\n",
    "bool('100.25')  #True"
   ]
  },
  {
   "cell_type": "code",
   "execution_count": 26,
   "id": "f40b8cf0-925e-4e33-8ded-6b10d063549e",
   "metadata": {},
   "outputs": [
    {
     "ename": "ValueError",
     "evalue": "invalid literal for int() with base 10: '100.25'",
     "output_type": "error",
     "traceback": [
      "\u001b[1;31m---------------------------------------------------------------------------\u001b[0m",
      "\u001b[1;31mValueError\u001b[0m                                Traceback (most recent call last)",
      "Cell \u001b[1;32mIn[26], line 1\u001b[0m\n\u001b[1;32m----> 1\u001b[0m \u001b[38;5;28mint\u001b[39m(\u001b[38;5;124m'\u001b[39m\u001b[38;5;124m100.25\u001b[39m\u001b[38;5;124m'\u001b[39m)\n",
      "\u001b[1;31mValueError\u001b[0m: invalid literal for int() with base 10: '100.25'"
     ]
    }
   ],
   "source": [
    "int('100.25')"
   ]
  },
  {
   "cell_type": "code",
   "execution_count": 27,
   "id": "275a1ba4-3676-4852-905f-a387dfe03293",
   "metadata": {},
   "outputs": [
    {
     "data": {
      "text/plain": [
       "100.24"
      ]
     },
     "execution_count": 27,
     "metadata": {},
     "output_type": "execute_result"
    }
   ],
   "source": [
    "float('100.24')"
   ]
  },
  {
   "cell_type": "code",
   "execution_count": 28,
   "id": "a73d0470-ecfa-403b-b0c4-a04745c2e3e1",
   "metadata": {},
   "outputs": [
    {
     "data": {
      "text/plain": [
       "True"
      ]
     },
     "execution_count": 28,
     "metadata": {},
     "output_type": "execute_result"
    }
   ],
   "source": [
    "bool('100.25')"
   ]
  },
  {
   "cell_type": "code",
   "execution_count": null,
   "id": "b56b1fd8-04f1-40ec-919b-0e8340d01446",
   "metadata": {},
   "outputs": [],
   "source": [
    "int('100') # works\n",
    "int('100.25') # Fail"
   ]
  },
  {
   "cell_type": "markdown",
   "id": "9d647009-e44a-4d6f-a3e7-1bf5841d20c1",
   "metadata": {},
   "source": [
    "**IMP Note**\n",
    "- Float is boss\n",
    "- integer conversion of float value in string format will fail"
   ]
  },
  {
   "cell_type": "code",
   "execution_count": 29,
   "id": "384f6988-739e-41d2-a91c-418faf0707d2",
   "metadata": {},
   "outputs": [
    {
     "ename": "ValueError",
     "evalue": "invalid literal for int() with base 10: '100.25'",
     "output_type": "error",
     "traceback": [
      "\u001b[1;31m---------------------------------------------------------------------------\u001b[0m",
      "\u001b[1;31mValueError\u001b[0m                                Traceback (most recent call last)",
      "Cell \u001b[1;32mIn[29], line 2\u001b[0m\n\u001b[0;32m      1\u001b[0m \u001b[38;5;28mint\u001b[39m(\u001b[38;5;241m100.25\u001b[39m) \u001b[38;5;66;03m#100\u001b[39;00m\n\u001b[1;32m----> 2\u001b[0m \u001b[38;5;28mint\u001b[39m(\u001b[38;5;124m'\u001b[39m\u001b[38;5;124m100.25\u001b[39m\u001b[38;5;124m'\u001b[39m) \u001b[38;5;66;03m#Fail\u001b[39;00m\n\u001b[0;32m      3\u001b[0m \u001b[38;5;28mint\u001b[39m(\u001b[38;5;241m100\u001b[39m)  \u001b[38;5;66;03m#100\u001b[39;00m\n\u001b[0;32m      4\u001b[0m \u001b[38;5;28mint\u001b[39m(\u001b[38;5;124m'\u001b[39m\u001b[38;5;124m100\u001b[39m\u001b[38;5;124m'\u001b[39m)\n",
      "\u001b[1;31mValueError\u001b[0m: invalid literal for int() with base 10: '100.25'"
     ]
    }
   ],
   "source": [
    "int(100.25) #100\n",
    "int('100.25') #Fail\n",
    "int(100)  #100\n",
    "int('100')  #100"
   ]
  },
  {
   "cell_type": "code",
   "execution_count": null,
   "id": "bc83ea41-506d-45df-a0d5-5d6707fa5789",
   "metadata": {},
   "outputs": [],
   "source": [
    "float(100.25)\n",
    "float(100)\n",
    "float('100')\n",
    "float('100.25')"
   ]
  },
  {
   "cell_type": "code",
   "execution_count": 30,
   "id": "67c5062e-f2ab-49a9-bb53-399c3796c89a",
   "metadata": {},
   "outputs": [
    {
     "data": {
      "text/plain": [
       "100.25"
      ]
     },
     "execution_count": 30,
     "metadata": {},
     "output_type": "execute_result"
    }
   ],
   "source": [
    "float(100.25)"
   ]
  },
  {
   "cell_type": "code",
   "execution_count": 31,
   "id": "d4ab2a62-f48a-4eb6-8623-e12e15ca443c",
   "metadata": {},
   "outputs": [
    {
     "data": {
      "text/plain": [
       "100.0"
      ]
     },
     "execution_count": 31,
     "metadata": {},
     "output_type": "execute_result"
    }
   ],
   "source": [
    "float(100)"
   ]
  },
  {
   "cell_type": "code",
   "execution_count": 32,
   "id": "579eb7b5-95fe-47ca-a2e3-a69711b7477b",
   "metadata": {},
   "outputs": [
    {
     "data": {
      "text/plain": [
       "100.0"
      ]
     },
     "execution_count": 32,
     "metadata": {},
     "output_type": "execute_result"
    }
   ],
   "source": [
    "float('100')"
   ]
  },
  {
   "cell_type": "code",
   "execution_count": 33,
   "id": "507f44af-5dc2-4990-bd78-44159966aa98",
   "metadata": {},
   "outputs": [
    {
     "data": {
      "text/plain": [
       "100.25"
      ]
     },
     "execution_count": 33,
     "metadata": {},
     "output_type": "execute_result"
    }
   ],
   "source": [
    "float('100.25')"
   ]
  },
  {
   "cell_type": "code",
   "execution_count": null,
   "id": "0c4c77e9-50a8-44cc-ab65-8c3c91366d01",
   "metadata": {},
   "outputs": [],
   "source": [
    "integer will accept the float value  ex:int(100.25) works\n",
    "integer will not accept the float value in string format ex:int('100.25') fail"
   ]
  },
  {
   "cell_type": "markdown",
   "id": "bbe38929-aea9-4a30-b93b-41185ebc22dc",
   "metadata": {},
   "source": [
    "$Case-3$"
   ]
  },
  {
   "cell_type": "code",
   "execution_count": null,
   "id": "ec51d487-38ed-4b16-85e7-5429656227be",
   "metadata": {},
   "outputs": [],
   "source": [
    "int('python') #Fail\n",
    "float('python') #Fail\n",
    "bool('python')  #True"
   ]
  },
  {
   "cell_type": "code",
   "execution_count": 34,
   "id": "124a8aae-157f-41e9-ad91-f3d5a39989e2",
   "metadata": {},
   "outputs": [
    {
     "ename": "ValueError",
     "evalue": "invalid literal for int() with base 10: 'python'",
     "output_type": "error",
     "traceback": [
      "\u001b[1;31m---------------------------------------------------------------------------\u001b[0m",
      "\u001b[1;31mValueError\u001b[0m                                Traceback (most recent call last)",
      "Cell \u001b[1;32mIn[34], line 1\u001b[0m\n\u001b[1;32m----> 1\u001b[0m \u001b[38;5;28mint\u001b[39m(\u001b[38;5;124m'\u001b[39m\u001b[38;5;124mpython\u001b[39m\u001b[38;5;124m'\u001b[39m)\n",
      "\u001b[1;31mValueError\u001b[0m: invalid literal for int() with base 10: 'python'"
     ]
    }
   ],
   "source": [
    "int('python')"
   ]
  },
  {
   "cell_type": "code",
   "execution_count": 35,
   "id": "40bbe7e9-475f-4731-84c4-651f019269ea",
   "metadata": {},
   "outputs": [
    {
     "ename": "ValueError",
     "evalue": "could not convert string to float: 'python'",
     "output_type": "error",
     "traceback": [
      "\u001b[1;31m---------------------------------------------------------------------------\u001b[0m",
      "\u001b[1;31mValueError\u001b[0m                                Traceback (most recent call last)",
      "Cell \u001b[1;32mIn[35], line 1\u001b[0m\n\u001b[1;32m----> 1\u001b[0m \u001b[38;5;28mfloat\u001b[39m(\u001b[38;5;124m'\u001b[39m\u001b[38;5;124mpython\u001b[39m\u001b[38;5;124m'\u001b[39m)\n",
      "\u001b[1;31mValueError\u001b[0m: could not convert string to float: 'python'"
     ]
    }
   ],
   "source": [
    "float('python')"
   ]
  },
  {
   "cell_type": "code",
   "execution_count": 36,
   "id": "e6fdbcaa-e7b6-4015-a948-f1e4934be5ae",
   "metadata": {},
   "outputs": [
    {
     "data": {
      "text/plain": [
       "True"
      ]
     },
     "execution_count": 36,
     "metadata": {},
     "output_type": "execute_result"
    }
   ],
   "source": [
    "bool('python')"
   ]
  },
  {
   "cell_type": "code",
   "execution_count": null,
   "id": "af5d518e-4a63-4dd4-96c8-d6bb39899962",
   "metadata": {},
   "outputs": [],
   "source": [
    "bool('100') #True\n",
    "bool('100.25') #True\n",
    "bool('0') #false\n",
    "bool('0.0') #false\n",
    "bool('python') #True"
   ]
  },
  {
   "cell_type": "code",
   "execution_count": 37,
   "id": "ff36a8ee-170e-4a07-aa15-4e2515e048d0",
   "metadata": {},
   "outputs": [
    {
     "data": {
      "text/plain": [
       "True"
      ]
     },
     "execution_count": 37,
     "metadata": {},
     "output_type": "execute_result"
    }
   ],
   "source": [
    "bool('100')"
   ]
  },
  {
   "cell_type": "code",
   "execution_count": 38,
   "id": "05adf5ba-4e05-41eb-a4a1-b2c2d6bf5c09",
   "metadata": {},
   "outputs": [
    {
     "data": {
      "text/plain": [
       "True"
      ]
     },
     "execution_count": 38,
     "metadata": {},
     "output_type": "execute_result"
    }
   ],
   "source": [
    "bool('100.25')"
   ]
  },
  {
   "cell_type": "code",
   "execution_count": 39,
   "id": "6df98e2d-7849-4dfd-b3aa-eacbb52cbaa3",
   "metadata": {},
   "outputs": [
    {
     "data": {
      "text/plain": [
       "True"
      ]
     },
     "execution_count": 39,
     "metadata": {},
     "output_type": "execute_result"
    }
   ],
   "source": [
    "bool('0')"
   ]
  },
  {
   "cell_type": "code",
   "execution_count": 40,
   "id": "82a64858-f9a3-4dc9-ad95-22ed58e1a55c",
   "metadata": {},
   "outputs": [
    {
     "data": {
      "text/plain": [
       "True"
      ]
     },
     "execution_count": 40,
     "metadata": {},
     "output_type": "execute_result"
    }
   ],
   "source": [
    "bool('0.0')"
   ]
  },
  {
   "cell_type": "code",
   "execution_count": 41,
   "id": "e33056a4-5aff-442d-a478-7b911cb39401",
   "metadata": {},
   "outputs": [
    {
     "data": {
      "text/plain": [
       "True"
      ]
     },
     "execution_count": 41,
     "metadata": {},
     "output_type": "execute_result"
    }
   ],
   "source": [
    "bool('python')"
   ]
  },
  {
   "cell_type": "code",
   "execution_count": 42,
   "id": "00015429-6501-4de4-8dcc-96c24bb104b4",
   "metadata": {},
   "outputs": [
    {
     "data": {
      "text/plain": [
       "True"
      ]
     },
     "execution_count": 42,
     "metadata": {},
     "output_type": "execute_result"
    }
   ],
   "source": [
    "bool(100)"
   ]
  },
  {
   "cell_type": "code",
   "execution_count": 43,
   "id": "8beeda7d-557e-4f0a-9940-294115154fe2",
   "metadata": {},
   "outputs": [
    {
     "data": {
      "text/plain": [
       "True"
      ]
     },
     "execution_count": 43,
     "metadata": {},
     "output_type": "execute_result"
    }
   ],
   "source": [
    "bool(-100)"
   ]
  },
  {
   "cell_type": "code",
   "execution_count": 44,
   "id": "e2907bcf-e438-426c-889a-53c90a27e8dd",
   "metadata": {},
   "outputs": [
    {
     "data": {
      "text/plain": [
       "True"
      ]
     },
     "execution_count": 44,
     "metadata": {},
     "output_type": "execute_result"
    }
   ],
   "source": [
    "bool(100.25)"
   ]
  },
  {
   "cell_type": "code",
   "execution_count": 45,
   "id": "72311b59-43ef-4998-aefa-bbe7ce28fc7a",
   "metadata": {},
   "outputs": [
    {
     "data": {
      "text/plain": [
       "False"
      ]
     },
     "execution_count": 45,
     "metadata": {},
     "output_type": "execute_result"
    }
   ],
   "source": [
    "bool(0)"
   ]
  },
  {
   "cell_type": "code",
   "execution_count": 46,
   "id": "ff1031fc-d007-4ff8-911c-26822ddddad0",
   "metadata": {},
   "outputs": [
    {
     "data": {
      "text/plain": [
       "False"
      ]
     },
     "execution_count": 46,
     "metadata": {},
     "output_type": "execute_result"
    }
   ],
   "source": [
    "bool(0.0)"
   ]
  },
  {
   "cell_type": "code",
   "execution_count": 47,
   "id": "6d747877-b8cd-448e-b7c6-470bb0053fa7",
   "metadata": {},
   "outputs": [
    {
     "data": {
      "text/plain": [
       "False"
      ]
     },
     "execution_count": 47,
     "metadata": {},
     "output_type": "execute_result"
    }
   ],
   "source": [
    "bool('')"
   ]
  },
  {
   "cell_type": "markdown",
   "id": "7e1409d1-9a36-4b96-9b61-880f271d6a93",
   "metadata": {},
   "source": [
    "**Boolean to all other data type**"
   ]
  },
  {
   "cell_type": "code",
   "execution_count": null,
   "id": "11c45f2b-785c-4d15-b818-d1605702bf17",
   "metadata": {},
   "outputs": [],
   "source": [
    "bool('100') #True\n",
    "bool('100.25') #True\n",
    "bool('0') #false\n",
    "bool('0.0') #false\n",
    "bool('python') #True\n",
    "bool(100) #T\n",
    "bool(-100) #T\n",
    "bool(100.25) #T\n",
    "bool(0) #F\n",
    "bool(0.0) #F\n",
    "bool('') #F"
   ]
  },
  {
   "cell_type": "code",
   "execution_count": null,
   "id": "2d9b5ab6-c286-424b-9146-4d53a29beedf",
   "metadata": {},
   "outputs": [],
   "source": [
    "int(100.25)\n",
    "int('100.25')\n",
    "int(True)\n",
    "int(False)"
   ]
  },
  {
   "cell_type": "code",
   "execution_count": 48,
   "id": "24cc2c90-d4cc-4755-ab79-f26373a5d971",
   "metadata": {},
   "outputs": [
    {
     "data": {
      "text/plain": [
       "100"
      ]
     },
     "execution_count": 48,
     "metadata": {},
     "output_type": "execute_result"
    }
   ],
   "source": [
    "int(100.25)"
   ]
  },
  {
   "cell_type": "code",
   "execution_count": 49,
   "id": "c9e5a674-87f7-4c63-996b-504cf5f2d75c",
   "metadata": {},
   "outputs": [
    {
     "ename": "ValueError",
     "evalue": "invalid literal for int() with base 10: '100.25'",
     "output_type": "error",
     "traceback": [
      "\u001b[1;31m---------------------------------------------------------------------------\u001b[0m",
      "\u001b[1;31mValueError\u001b[0m                                Traceback (most recent call last)",
      "Cell \u001b[1;32mIn[49], line 1\u001b[0m\n\u001b[1;32m----> 1\u001b[0m \u001b[38;5;28mint\u001b[39m(\u001b[38;5;124m'\u001b[39m\u001b[38;5;124m100.25\u001b[39m\u001b[38;5;124m'\u001b[39m)\n",
      "\u001b[1;31mValueError\u001b[0m: invalid literal for int() with base 10: '100.25'"
     ]
    }
   ],
   "source": [
    "int('100.25')"
   ]
  },
  {
   "cell_type": "code",
   "execution_count": 50,
   "id": "6f97dc86-37f4-417c-a107-b90cc41fb4f4",
   "metadata": {},
   "outputs": [
    {
     "data": {
      "text/plain": [
       "1"
      ]
     },
     "execution_count": 50,
     "metadata": {},
     "output_type": "execute_result"
    }
   ],
   "source": [
    "int(True)"
   ]
  },
  {
   "cell_type": "code",
   "execution_count": 51,
   "id": "59254a3d-11c2-4151-957d-10f968c839d5",
   "metadata": {},
   "outputs": [
    {
     "data": {
      "text/plain": [
       "0"
      ]
     },
     "execution_count": 51,
     "metadata": {},
     "output_type": "execute_result"
    }
   ],
   "source": [
    "int(False)"
   ]
  },
  {
   "cell_type": "code",
   "execution_count": 52,
   "id": "079fee1f-4afe-402f-ac8a-92525e842284",
   "metadata": {},
   "outputs": [
    {
     "data": {
      "text/plain": [
       "100.0"
      ]
     },
     "execution_count": 52,
     "metadata": {},
     "output_type": "execute_result"
    }
   ],
   "source": [
    "float(100)"
   ]
  },
  {
   "cell_type": "code",
   "execution_count": 53,
   "id": "54370400-e139-4926-a798-58ac31871995",
   "metadata": {},
   "outputs": [
    {
     "data": {
      "text/plain": [
       "100.25"
      ]
     },
     "execution_count": 53,
     "metadata": {},
     "output_type": "execute_result"
    }
   ],
   "source": [
    "float('100.25')"
   ]
  },
  {
   "cell_type": "code",
   "execution_count": 54,
   "id": "010f5538-7fa1-49cf-bde1-e15fd6efdf9b",
   "metadata": {},
   "outputs": [
    {
     "data": {
      "text/plain": [
       "1.0"
      ]
     },
     "execution_count": 54,
     "metadata": {},
     "output_type": "execute_result"
    }
   ],
   "source": [
    "float(True)"
   ]
  },
  {
   "cell_type": "code",
   "execution_count": 55,
   "id": "f6955a26-15ff-40ea-96a5-262d929e198f",
   "metadata": {},
   "outputs": [
    {
     "data": {
      "text/plain": [
       "0.0"
      ]
     },
     "execution_count": 55,
     "metadata": {},
     "output_type": "execute_result"
    }
   ],
   "source": [
    "float(False)"
   ]
  },
  {
   "cell_type": "code",
   "execution_count": 56,
   "id": "55855395-d267-4e3d-93e7-ad4e3f642808",
   "metadata": {},
   "outputs": [
    {
     "data": {
      "text/plain": [
       "'100'"
      ]
     },
     "execution_count": 56,
     "metadata": {},
     "output_type": "execute_result"
    }
   ],
   "source": [
    "str(100)"
   ]
  },
  {
   "cell_type": "code",
   "execution_count": 57,
   "id": "4e319163-4549-4f4c-8581-ae3f5c3b69d2",
   "metadata": {},
   "outputs": [
    {
     "data": {
      "text/plain": [
       "'100.25'"
      ]
     },
     "execution_count": 57,
     "metadata": {},
     "output_type": "execute_result"
    }
   ],
   "source": [
    "str(100.25)"
   ]
  },
  {
   "cell_type": "code",
   "execution_count": 58,
   "id": "ba709353-2d08-4af9-a81c-a75dd95ada20",
   "metadata": {},
   "outputs": [
    {
     "data": {
      "text/plain": [
       "'True'"
      ]
     },
     "execution_count": 58,
     "metadata": {},
     "output_type": "execute_result"
    }
   ],
   "source": [
    "str(True)"
   ]
  },
  {
   "cell_type": "code",
   "execution_count": 60,
   "id": "5c362a82-83ea-4cd4-9b01-10f80e9ef902",
   "metadata": {},
   "outputs": [
    {
     "data": {
      "text/plain": [
       "'False'"
      ]
     },
     "execution_count": 60,
     "metadata": {},
     "output_type": "execute_result"
    }
   ],
   "source": [
    "str(False)"
   ]
  },
  {
   "cell_type": "code",
   "execution_count": 61,
   "id": "98bbc89d-16e4-4f42-bb07-ec8e99739f98",
   "metadata": {},
   "outputs": [
    {
     "data": {
      "text/plain": [
       "True"
      ]
     },
     "execution_count": 61,
     "metadata": {},
     "output_type": "execute_result"
    }
   ],
   "source": [
    "bool(100)"
   ]
  },
  {
   "cell_type": "code",
   "execution_count": 62,
   "id": "8728d789-ea47-4dff-8383-6454639c7e88",
   "metadata": {},
   "outputs": [
    {
     "data": {
      "text/plain": [
       "True"
      ]
     },
     "execution_count": 62,
     "metadata": {},
     "output_type": "execute_result"
    }
   ],
   "source": [
    "bool(100.25)"
   ]
  },
  {
   "cell_type": "code",
   "execution_count": 63,
   "id": "62dc5f20-023f-4cdf-8858-fc2d00010286",
   "metadata": {},
   "outputs": [
    {
     "data": {
      "text/plain": [
       "True"
      ]
     },
     "execution_count": 63,
     "metadata": {},
     "output_type": "execute_result"
    }
   ],
   "source": [
    "bool(True)"
   ]
  },
  {
   "cell_type": "code",
   "execution_count": 64,
   "id": "d8eb620b-cb10-4f03-9317-818355eb72b4",
   "metadata": {},
   "outputs": [
    {
     "data": {
      "text/plain": [
       "False"
      ]
     },
     "execution_count": 64,
     "metadata": {},
     "output_type": "execute_result"
    }
   ],
   "source": [
    "bool(False)"
   ]
  },
  {
   "cell_type": "code",
   "execution_count": 65,
   "id": "cb087641-b7a7-48f1-9166-7032f78d7bcc",
   "metadata": {},
   "outputs": [
    {
     "data": {
      "text/plain": [
       "False"
      ]
     },
     "execution_count": 65,
     "metadata": {},
     "output_type": "execute_result"
    }
   ],
   "source": [
    "bool(0.0)"
   ]
  },
  {
   "cell_type": "code",
   "execution_count": null,
   "id": "c14151d0-0ced-4027-9cd4-985c74fe594e",
   "metadata": {},
   "outputs": [],
   "source": []
  }
 ],
 "metadata": {
  "kernelspec": {
   "display_name": "Python 3 (ipykernel)",
   "language": "python",
   "name": "python3"
  },
  "language_info": {
   "codemirror_mode": {
    "name": "ipython",
    "version": 3
   },
   "file_extension": ".py",
   "mimetype": "text/x-python",
   "name": "python",
   "nbconvert_exporter": "python",
   "pygments_lexer": "ipython3",
   "version": "3.11.7"
  }
 },
 "nbformat": 4,
 "nbformat_minor": 5
}
